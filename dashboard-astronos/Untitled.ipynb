{
 "cells": [
  {
   "cell_type": "code",
   "execution_count": 1,
   "metadata": {},
   "outputs": [],
   "source": [
    "import pandas as pd"
   ]
  },
  {
   "cell_type": "code",
   "execution_count": 2,
   "metadata": {},
   "outputs": [],
   "source": [
    "df = pd.read_csv('/Users/allen/Desktop/export-tokenholders-for-contract-0x787e5285aefe32a147f14219886feb0bb7340371.csv')"
   ]
  },
  {
   "cell_type": "code",
   "execution_count": 3,
   "metadata": {},
   "outputs": [
    {
     "data": {
      "text/html": [
       "<div>\n",
       "<style scoped>\n",
       "    .dataframe tbody tr th:only-of-type {\n",
       "        vertical-align: middle;\n",
       "    }\n",
       "\n",
       "    .dataframe tbody tr th {\n",
       "        vertical-align: top;\n",
       "    }\n",
       "\n",
       "    .dataframe thead th {\n",
       "        text-align: right;\n",
       "    }\n",
       "</style>\n",
       "<table border=\"1\" class=\"dataframe\">\n",
       "  <thead>\n",
       "    <tr style=\"text-align: right;\">\n",
       "      <th></th>\n",
       "      <th>HolderAddress</th>\n",
       "      <th>Balance</th>\n",
       "      <th>PendingBalanceUpdate</th>\n",
       "    </tr>\n",
       "  </thead>\n",
       "  <tbody>\n",
       "    <tr>\n",
       "      <th>0</th>\n",
       "      <td>0x01510a4f791686f874ef74d27b7f2386afac0ea3</td>\n",
       "      <td>4.084411e+08</td>\n",
       "      <td>No</td>\n",
       "    </tr>\n",
       "    <tr>\n",
       "      <th>1</th>\n",
       "      <td>0x015e75d0454845e119c86fc28da7387b00fa105a</td>\n",
       "      <td>1.096309e+10</td>\n",
       "      <td>No</td>\n",
       "    </tr>\n",
       "    <tr>\n",
       "      <th>2</th>\n",
       "      <td>0x01728f0dc1b2e7a5c16d2368159b3cd87cfdbe0d</td>\n",
       "      <td>4.084411e+08</td>\n",
       "      <td>No</td>\n",
       "    </tr>\n",
       "    <tr>\n",
       "      <th>3</th>\n",
       "      <td>0x017a39034d9416cea1ad76cada7805dada2fadc2</td>\n",
       "      <td>1.000000e+08</td>\n",
       "      <td>No</td>\n",
       "    </tr>\n",
       "    <tr>\n",
       "      <th>4</th>\n",
       "      <td>0x019caec011152ea560cf8354fdd1d720c68e7883</td>\n",
       "      <td>1.173195e+11</td>\n",
       "      <td>No</td>\n",
       "    </tr>\n",
       "    <tr>\n",
       "      <th>...</th>\n",
       "      <td>...</td>\n",
       "      <td>...</td>\n",
       "      <td>...</td>\n",
       "    </tr>\n",
       "    <tr>\n",
       "      <th>1140</th>\n",
       "      <td>0xff2fda7eed1c6ed373260e6715997ac47e37f189</td>\n",
       "      <td>1.669884e+12</td>\n",
       "      <td>No</td>\n",
       "    </tr>\n",
       "    <tr>\n",
       "      <th>1141</th>\n",
       "      <td>0xff829df9ef50c115bc5b4eda77e4e1df31d5cdca</td>\n",
       "      <td>4.084411e+08</td>\n",
       "      <td>No</td>\n",
       "    </tr>\n",
       "    <tr>\n",
       "      <th>1142</th>\n",
       "      <td>0xffbbe9d3986dddf49ee38e43b6e7f9930791dec8</td>\n",
       "      <td>1.000000e+08</td>\n",
       "      <td>No</td>\n",
       "    </tr>\n",
       "    <tr>\n",
       "      <th>1143</th>\n",
       "      <td>0xffbc86aec298b9d84834e0db09f51fa99c62a507</td>\n",
       "      <td>2.009594e+10</td>\n",
       "      <td>No</td>\n",
       "    </tr>\n",
       "    <tr>\n",
       "      <th>1144</th>\n",
       "      <td>0xffcd6a29daef24a0b954c9532891787a31a87094</td>\n",
       "      <td>4.084411e+08</td>\n",
       "      <td>No</td>\n",
       "    </tr>\n",
       "  </tbody>\n",
       "</table>\n",
       "<p>1145 rows × 3 columns</p>\n",
       "</div>"
      ],
      "text/plain": [
       "                                   HolderAddress       Balance  \\\n",
       "0     0x01510a4f791686f874ef74d27b7f2386afac0ea3  4.084411e+08   \n",
       "1     0x015e75d0454845e119c86fc28da7387b00fa105a  1.096309e+10   \n",
       "2     0x01728f0dc1b2e7a5c16d2368159b3cd87cfdbe0d  4.084411e+08   \n",
       "3     0x017a39034d9416cea1ad76cada7805dada2fadc2  1.000000e+08   \n",
       "4     0x019caec011152ea560cf8354fdd1d720c68e7883  1.173195e+11   \n",
       "...                                          ...           ...   \n",
       "1140  0xff2fda7eed1c6ed373260e6715997ac47e37f189  1.669884e+12   \n",
       "1141  0xff829df9ef50c115bc5b4eda77e4e1df31d5cdca  4.084411e+08   \n",
       "1142  0xffbbe9d3986dddf49ee38e43b6e7f9930791dec8  1.000000e+08   \n",
       "1143  0xffbc86aec298b9d84834e0db09f51fa99c62a507  2.009594e+10   \n",
       "1144  0xffcd6a29daef24a0b954c9532891787a31a87094  4.084411e+08   \n",
       "\n",
       "     PendingBalanceUpdate  \n",
       "0                      No  \n",
       "1                      No  \n",
       "2                      No  \n",
       "3                      No  \n",
       "4                      No  \n",
       "...                   ...  \n",
       "1140                   No  \n",
       "1141                   No  \n",
       "1142                   No  \n",
       "1143                   No  \n",
       "1144                   No  \n",
       "\n",
       "[1145 rows x 3 columns]"
      ]
     },
     "execution_count": 3,
     "metadata": {},
     "output_type": "execute_result"
    }
   ],
   "source": [
    "df"
   ]
  },
  {
   "cell_type": "markdown",
   "metadata": {},
   "source": []
  },
  {
   "cell_type": "code",
   "execution_count": 15,
   "metadata": {},
   "outputs": [],
   "source": [
    "import requests; import json"
   ]
  },
  {
   "cell_type": "code",
   "execution_count": 5,
   "metadata": {},
   "outputs": [],
   "source": [
    "r = requests.get('https://api.bscscan.com/api?module=account&action=balance&address=0x70F657164e5b75689b64B7fd1fA275F334f28e18&apikey=5VWQ9NXZTMW7U68HDUXTX6MR6DA62SVTJ6')"
   ]
  },
  {
   "cell_type": "code",
   "execution_count": 22,
   "metadata": {},
   "outputs": [
    {
     "data": {
      "text/plain": [
       "{'status': '1', 'message': 'OK', 'result': '63708405831929716'}"
      ]
     },
     "execution_count": 22,
     "metadata": {},
     "output_type": "execute_result"
    }
   ],
   "source": [
    "r.json()"
   ]
  },
  {
   "cell_type": "code",
   "execution_count": 18,
   "metadata": {},
   "outputs": [],
   "source": [
    "d = {'mybal':1.230234234424}"
   ]
  },
  {
   "cell_type": "code",
   "execution_count": 19,
   "metadata": {},
   "outputs": [
    {
     "data": {
      "text/plain": [
       "{'mybal': 1.230234234424}"
      ]
     },
     "execution_count": 19,
     "metadata": {},
     "output_type": "execute_result"
    }
   ],
   "source": [
    "d\n"
   ]
  },
  {
   "cell_type": "code",
   "execution_count": 20,
   "metadata": {},
   "outputs": [
    {
     "data": {
      "text/plain": [
       "'{\"mybal\": 1.230234234424}'"
      ]
     },
     "execution_count": 20,
     "metadata": {},
     "output_type": "execute_result"
    }
   ],
   "source": [
    "json.dumps(d)"
   ]
  },
  {
   "cell_type": "code",
   "execution_count": null,
   "metadata": {},
   "outputs": [],
   "source": []
  }
 ],
 "metadata": {
  "kernelspec": {
   "display_name": "Python 3",
   "language": "python",
   "name": "python3"
  },
  "language_info": {
   "codemirror_mode": {
    "name": "ipython",
    "version": 3
   },
   "file_extension": ".py",
   "mimetype": "text/x-python",
   "name": "python",
   "nbconvert_exporter": "python",
   "pygments_lexer": "ipython3",
   "version": "3.8.3"
  }
 },
 "nbformat": 4,
 "nbformat_minor": 4
}
